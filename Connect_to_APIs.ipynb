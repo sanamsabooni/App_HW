{
  "nbformat": 4,
  "nbformat_minor": 0,
  "metadata": {
    "colab": {
      "provenance": [],
      "authorship_tag": "ABX9TyPVHHjF1bhnqdSW4zkW5NL0",
      "include_colab_link": true
    },
    "kernelspec": {
      "name": "python3",
      "display_name": "Python 3"
    },
    "language_info": {
      "name": "python"
    }
  },
  "cells": [
    {
      "cell_type": "markdown",
      "metadata": {
        "id": "view-in-github",
        "colab_type": "text"
      },
      "source": [
        "<a href=\"https://colab.research.google.com/github/sanamsabooni/App_HW/blob/main/Connect_to_APIs.ipynb\" target=\"_parent\"><img src=\"https://colab.research.google.com/assets/colab-badge.svg\" alt=\"Open In Colab\"/></a>"
      ]
    },
    {
      "cell_type": "code",
      "source": [
        "!pip install requests #Requests: To handle HTTP requests, including making API calls to Zoho CRM.\n",
        "!pip install pandas #Pandas (Optional but recommended): If you want to work with tabular data (like displaying modules in a table), Pandas makes this much easier.\n",
        "!pip install schedule #Schedule (For scheduling automatic token renewal): This allows you to run the token renewal process periodically (daily or weekly).\n",
        "!pip install python-dotenv #(Python-dotenv (Optional for environment variables): If you want to keep your credentials (like client_id, client_secret, refresh_token) in a .env file for better security.)"
      ],
      "metadata": {
        "colab": {
          "base_uri": "https://localhost:8080/"
        },
        "id": "QNakcRLwqE4I",
        "outputId": "5b2e66e1-5bd8-486a-c785-3538f06e40bb"
      },
      "execution_count": null,
      "outputs": [
        {
          "output_type": "stream",
          "name": "stdout",
          "text": [
            "Requirement already satisfied: requests in /usr/local/lib/python3.11/dist-packages (2.32.3)\n",
            "Requirement already satisfied: charset-normalizer<4,>=2 in /usr/local/lib/python3.11/dist-packages (from requests) (3.4.1)\n",
            "Requirement already satisfied: idna<4,>=2.5 in /usr/local/lib/python3.11/dist-packages (from requests) (3.10)\n",
            "Requirement already satisfied: urllib3<3,>=1.21.1 in /usr/local/lib/python3.11/dist-packages (from requests) (2.3.0)\n",
            "Requirement already satisfied: certifi>=2017.4.17 in /usr/local/lib/python3.11/dist-packages (from requests) (2024.12.14)\n",
            "Requirement already satisfied: pandas in /usr/local/lib/python3.11/dist-packages (2.2.2)\n",
            "Requirement already satisfied: numpy>=1.23.2 in /usr/local/lib/python3.11/dist-packages (from pandas) (1.26.4)\n",
            "Requirement already satisfied: python-dateutil>=2.8.2 in /usr/local/lib/python3.11/dist-packages (from pandas) (2.8.2)\n",
            "Requirement already satisfied: pytz>=2020.1 in /usr/local/lib/python3.11/dist-packages (from pandas) (2024.2)\n",
            "Requirement already satisfied: tzdata>=2022.7 in /usr/local/lib/python3.11/dist-packages (from pandas) (2025.1)\n",
            "Requirement already satisfied: six>=1.5 in /usr/local/lib/python3.11/dist-packages (from python-dateutil>=2.8.2->pandas) (1.17.0)\n",
            "Collecting schedule\n",
            "  Downloading schedule-1.2.2-py3-none-any.whl.metadata (3.8 kB)\n",
            "Downloading schedule-1.2.2-py3-none-any.whl (12 kB)\n",
            "Installing collected packages: schedule\n",
            "Successfully installed schedule-1.2.2\n",
            "Collecting python-dotenv\n",
            "  Downloading python_dotenv-1.0.1-py3-none-any.whl.metadata (23 kB)\n",
            "Downloading python_dotenv-1.0.1-py3-none-any.whl (19 kB)\n",
            "Installing collected packages: python-dotenv\n",
            "Successfully installed python-dotenv-1.0.1\n"
          ]
        }
      ]
    },
    {
      "cell_type": "code",
      "source": [
        "# import needed packages and libraries\n",
        "\n",
        "import requests\n",
        "import json\n",
        "import pandas as pd\n",
        "import schedule\n",
        "import time\n",
        "from dotenv import load_dotenv\n",
        "import os"
      ],
      "metadata": {
        "id": "MDWd7mBfruve"
      },
      "execution_count": null,
      "outputs": []
    },
    {
      "cell_type": "markdown",
      "source": [
        "**Token Renewal:**\n",
        " We can do it once a day now.\n",
        "running the following code will do that for us and it is valid only for an hour."
      ],
      "metadata": {
        "id": "nqYB7V3VsQbO"
      }
    },
    {
      "cell_type": "markdown",
      "source": [
        "**Manually Refresh the Token**"
      ],
      "metadata": {
        "id": "GB6vTACsmf0e"
      }
    },
    {
      "cell_type": "code",
      "source": [
        "def refresh_zoho_token():\n",
        "    # Define your refresh token and client credentials\n",
        "    refresh_token = 'YOUR_REFRESH_TOKEN'\n",
        "    client_id = 'YOUR_CLIENT_ID'\n",
        "    client_secret = 'YOUR_CLIENT_SECRET'\n",
        "\n",
        "    # API URL to refresh the token\n",
        "    url = 'https://accounts.zoho.com/oauth/v2/token'\n",
        "\n",
        "    # Payload for the POST request\n",
        "    payload = {\n",
        "        'refresh_token': refresh_token,\n",
        "        'client_id': client_id,\n",
        "        'client_secret': client_secret,\n",
        "        'grant_type': 'refresh_token'\n",
        "    }\n",
        "\n",
        "    # Send POST request to refresh the token\n",
        "    response = requests.post(url, data=payload)\n",
        "\n",
        "    # If the request was successful, parse and store the new access token\n",
        "    if response.status_code == 200:\n",
        "        data = response.json()\n",
        "        access_token = data.get('access_token')\n",
        "        print(f'New Access Token: {access_token}')\n",
        "        return access_token\n",
        "    else:\n",
        "        print(f'Failed to refresh token: {response.status_code}')\n",
        "        return None\n",
        "\n",
        "# Call the function to refresh the token\n",
        "refresh_zoho_token()\n"
      ],
      "metadata": {
        "colab": {
          "base_uri": "https://localhost:8080/"
        },
        "id": "7lww0yl_mea9",
        "outputId": "c8a1df32-1f8a-4bf3-ec40-f1828b89c6e5"
      },
      "execution_count": null,
      "outputs": [
        {
          "output_type": "stream",
          "name": "stdout",
          "text": [
            "New Access Token: None\n"
          ]
        }
      ]
    },
    {
      "cell_type": "code",
      "source": [],
      "metadata": {
        "id": "CPAskkAk1XnG"
      },
      "execution_count": null,
      "outputs": []
    },
    {
      "cell_type": "code",
      "source": [
        "import requests\n",
        "import json"
      ],
      "metadata": {
        "id": "0-sDiqFBqeii"
      },
      "execution_count": null,
      "outputs": []
    },
    {
      "cell_type": "code",
      "source": [
        "# Your Zoho API credentials\n",
        "CLIENT_ID = '1000.YMECBOG5M2VOMPFU0FJI5YED0JX3XX'\n",
        "CLIENT_SECRET = '0747da4549e31db730835243ffe9008c58514af154'\n",
        "REFRESH_TOKEN = '1000.729179886aae591f83b312ad058916c4.7c87cdc83e04efc88e9b013825ba28d4'\n",
        "TOKEN_URL = 'https://accounts.zoho.com/oauth/v2/token'\n",
        "\n",
        "def refresh_access_token():\n",
        "    data = {\n",
        "        'refresh_token': REFRESH_TOKEN,\n",
        "        'client_id': CLIENT_ID,\n",
        "        'client_secret': CLIENT_SECRET,\n",
        "        'grant_type': 'refresh_token'\n",
        "    }\n",
        "\n",
        "    response = requests.post(TOKEN_URL, data=data)\n",
        "    if response.status_code == 200:\n",
        "        access_token = response.json().get('access_token')\n",
        "        print(\"New Access Token:\", access_token)\n",
        "\n",
        "        # Save the token to a file for future use\n",
        "        with open(\"access_token.json\", \"w\") as token_file:\n",
        "            json.dump({\"access_token\": access_token}, token_file)\n",
        "\n",
        "        return access_token\n",
        "    else:\n",
        "        print(\"Failed to refresh access token:\", response.json())\n",
        "        return None\n",
        "\n",
        "# Refresh the token and store it\n",
        "access_token = refresh_access_token()\n"
      ],
      "metadata": {
        "colab": {
          "base_uri": "https://localhost:8080/"
        },
        "id": "vYhdZq7GZ-UW",
        "outputId": "de24fcf3-bc00-4b9b-b931-0546428c2a20"
      },
      "execution_count": null,
      "outputs": [
        {
          "output_type": "stream",
          "name": "stdout",
          "text": [
            "New Access Token: 1000.e405f2293fd87a9508349a09d959bcbf.71f39f05661f3c6b570709702d6b4fab\n"
          ]
        }
      ]
    },
    {
      "cell_type": "markdown",
      "source": [
        " **Retrieve Modules and Extract**"
      ],
      "metadata": {
        "id": "1c-QYYapaDij"
      }
    },
    {
      "cell_type": "code",
      "source": [
        "# Load the access token from the saved file\n",
        "def get_access_token():\n",
        "    with open(\"access_token.json\", \"r\") as token_file:\n",
        "        token_data = json.load(token_file)\n",
        "        return token_data[\"access_token\"]\n",
        "\n",
        "# API URL to fetch modules\n",
        "MODULES_URL = \"https://www.zohoapis.com/crm/v2/settings/modules\"\n",
        "\n",
        "def get_modules():\n",
        "    access_token = get_access_token()\n",
        "    headers = {\n",
        "        'Authorization': f'Bearer {access_token}'\n",
        "    }\n",
        "\n",
        "    response = requests.get(MODULES_URL, headers=headers)\n",
        "\n",
        "    if response.status_code == 200:\n",
        "        modules = response.json().get('modules', [])\n",
        "\n",
        "        # Extract module names and IDs\n",
        "        module_details = [{\"name\": mod[\"api_name\"], \"id\": mod[\"id\"]} for mod in modules]\n",
        "\n",
        "        print(\"Retrieved Modules:\")\n",
        "        for module in module_details:\n",
        "            print(f\"Module Name: {module['name']}, ID: {module['id']}\")\n",
        "\n",
        "        # Save modules to a file\n",
        "        with open(\"zoho_modules.json\", \"w\") as f:\n",
        "            json.dump(module_details, f, indent=4)\n",
        "\n",
        "        return module_details\n",
        "    else:\n",
        "        print(\"Error fetching modules:\", response.json())\n",
        "        return None\n",
        "\n",
        "# Fetch modules from Zoho CRM\n",
        "get_modules()\n"
      ],
      "metadata": {
        "colab": {
          "base_uri": "https://localhost:8080/"
        },
        "id": "6-GY9ItIaCJQ",
        "outputId": "d9ababd2-e18c-49ee-eb6d-7e5125740ead"
      },
      "execution_count": null,
      "outputs": [
        {
          "output_type": "stream",
          "name": "stdout",
          "text": [
            "Retrieved Modules:\n",
            "Module Name: Feeds, ID: 525504000007868001\n",
            "Module Name: CustomModule5001, ID: 525504000077920803\n",
            "Module Name: SalesInbox, ID: 525504000018145001\n",
            "Module Name: Home, ID: 525504000000002173\n",
            "Module Name: Accounts, ID: 525504000000002177\n",
            "Module Name: Sales_Orders, ID: 525504000000002221\n",
            "Module Name: Invoices, ID: 525504000000002225\n",
            "Module Name: Cancellations, ID: 525504000005752935\n",
            "Module Name: ACH_Reject, ID: 525504000005832557\n",
            "Module Name: Cases, ID: 525504000000002209\n",
            "Module Name: Account_Analysis, ID: 525504000005894240\n",
            "Module Name: Tin_Invalid, ID: 525504000005832158\n",
            "Module Name: Reports, ID: 525504000000002185\n",
            "Module Name: Products, ID: 525504000000002213\n",
            "Module Name: Notes, ID: 525504000000002197\n",
            "Module Name: Documents, ID: 525504000002936001\n",
            "Module Name: Solutions, ID: 525504000000002211\n",
            "Module Name: Purchase_Orders, ID: 525504000000002223\n",
            "Module Name: Leads, ID: 525504000000002175\n",
            "Module Name: Collections, ID: 525504000008251239\n",
            "Module Name: Status_History, ID: 525504000048770010\n",
            "Module Name: clicksendext__Clicksend_SMS, ID: 525504000052007007\n",
            "Module Name: zohosign__ZohoSign_Documents, ID: 525504000068850007\n",
            "Module Name: zohosign__ZohoSign_Recipients, ID: 525504000068850932\n",
            "Module Name: zohosign__ZohoSign_Document_Events, ID: 525504000068851857\n",
            "Module Name: docusign1__Envelopes, ID: 525504000083905007\n",
            "Module Name: docusign1__Envelope_Recipients, ID: 525504000083905991\n",
            "Module Name: docusign1__Envelope_Events, ID: 525504000083906975\n",
            "Module Name: smsmagic4__SMS_History, ID: 525504000089350009\n",
            "Module Name: smsmagic4__SMS_Template, ID: 525504000089350995\n",
            "Module Name: smsmagic4__SMS_SenderId, ID: 525504000089351979\n",
            "Module Name: Attachments, ID: 525504000000002227\n",
            "Module Name: Contacts, ID: 525504000000002179\n",
            "Module Name: Deals, ID: 525504000000002181\n",
            "Module Name: Actions_Performed, ID: 525504000024179005\n",
            "Module Name: Zoho_Books, ID: 525504000077929435\n",
            "Module Name: Converse_Desk, ID: 525504000097350957\n",
            "Module Name: Contacts_X_Accounts, ID: 525504000118769251\n",
            "Module Name: Contacts_X_Accounts2, ID: 525504000135384032\n"
          ]
        },
        {
          "output_type": "execute_result",
          "data": {
            "text/plain": [
              "[{'name': 'Feeds', 'id': '525504000007868001'},\n",
              " {'name': 'CustomModule5001', 'id': '525504000077920803'},\n",
              " {'name': 'SalesInbox', 'id': '525504000018145001'},\n",
              " {'name': 'Home', 'id': '525504000000002173'},\n",
              " {'name': 'Accounts', 'id': '525504000000002177'},\n",
              " {'name': 'Sales_Orders', 'id': '525504000000002221'},\n",
              " {'name': 'Invoices', 'id': '525504000000002225'},\n",
              " {'name': 'Cancellations', 'id': '525504000005752935'},\n",
              " {'name': 'ACH_Reject', 'id': '525504000005832557'},\n",
              " {'name': 'Cases', 'id': '525504000000002209'},\n",
              " {'name': 'Account_Analysis', 'id': '525504000005894240'},\n",
              " {'name': 'Tin_Invalid', 'id': '525504000005832158'},\n",
              " {'name': 'Reports', 'id': '525504000000002185'},\n",
              " {'name': 'Products', 'id': '525504000000002213'},\n",
              " {'name': 'Notes', 'id': '525504000000002197'},\n",
              " {'name': 'Documents', 'id': '525504000002936001'},\n",
              " {'name': 'Solutions', 'id': '525504000000002211'},\n",
              " {'name': 'Purchase_Orders', 'id': '525504000000002223'},\n",
              " {'name': 'Leads', 'id': '525504000000002175'},\n",
              " {'name': 'Collections', 'id': '525504000008251239'},\n",
              " {'name': 'Status_History', 'id': '525504000048770010'},\n",
              " {'name': 'clicksendext__Clicksend_SMS', 'id': '525504000052007007'},\n",
              " {'name': 'zohosign__ZohoSign_Documents', 'id': '525504000068850007'},\n",
              " {'name': 'zohosign__ZohoSign_Recipients', 'id': '525504000068850932'},\n",
              " {'name': 'zohosign__ZohoSign_Document_Events', 'id': '525504000068851857'},\n",
              " {'name': 'docusign1__Envelopes', 'id': '525504000083905007'},\n",
              " {'name': 'docusign1__Envelope_Recipients', 'id': '525504000083905991'},\n",
              " {'name': 'docusign1__Envelope_Events', 'id': '525504000083906975'},\n",
              " {'name': 'smsmagic4__SMS_History', 'id': '525504000089350009'},\n",
              " {'name': 'smsmagic4__SMS_Template', 'id': '525504000089350995'},\n",
              " {'name': 'smsmagic4__SMS_SenderId', 'id': '525504000089351979'},\n",
              " {'name': 'Attachments', 'id': '525504000000002227'},\n",
              " {'name': 'Contacts', 'id': '525504000000002179'},\n",
              " {'name': 'Deals', 'id': '525504000000002181'},\n",
              " {'name': 'Actions_Performed', 'id': '525504000024179005'},\n",
              " {'name': 'Zoho_Books', 'id': '525504000077929435'},\n",
              " {'name': 'Converse_Desk', 'id': '525504000097350957'},\n",
              " {'name': 'Contacts_X_Accounts', 'id': '525504000118769251'},\n",
              " {'name': 'Contacts_X_Accounts2', 'id': '525504000135384032'}]"
            ]
          },
          "metadata": {},
          "execution_count": 4
        }
      ]
    },
    {
      "cell_type": "code",
      "source": [
        "import requests\n",
        "import pandas as pd\n",
        "\n",
        "def get_zoho_modules():\n",
        "    # Define your access token and Zoho API endpoint\n",
        "    access_token = 'YOUR_ACCESS_TOKEN'  # Replace with your valid access token\n",
        "    url = \"https://www.zohoapis.com/crm/v2/settings/modules\"\n",
        "\n",
        "    # Headers to include access token in request\n",
        "    headers = {\n",
        "        \"Authorization\": f\"Bearer {access_token}\"\n",
        "    }\n",
        "\n",
        "    # Send the GET request to fetch the modules\n",
        "    response = requests.get(url, headers=headers)\n",
        "\n",
        "    # Check if the request was successful\n",
        "    if response.status_code == 200:\n",
        "        modules_data = response.json().get('modules', [])\n",
        "        print(\"Module Name | Fields\")\n",
        "        print(\"-\" * 50)\n",
        "\n",
        "        # Iterate through the modules and print their name and fields\n",
        "        for module in modules_data:\n",
        "            module_name = module.get('api_name', 'N/A')\n",
        "            fields = module.get('fields', [])\n",
        "            field_names = [field.get('api_name', 'N/A') for field in fields]\n",
        "\n",
        "            # Print module name and the fields underneath it\n",
        "            print(f\"\\n{module_name}:\")\n",
        "            print(\"\\t\", \", \".join(field_names))\n",
        "\n",
        "            # Optionally, you can store the result in a DataFrame for easier view or further processing\n",
        "            df = pd.DataFrame([{'Module Name': module_name, 'Fields': \", \".join(field_names)}])\n",
        "            print(df.to_string(index=False))\n",
        "    else:\n",
        "        print(f\"Failed to fetch modules: {response.status_code}\")\n",
        "\n",
        "# Call the function to display the modules and their fields\n",
        "get_zoho_modules()\n"
      ],
      "metadata": {
        "colab": {
          "base_uri": "https://localhost:8080/"
        },
        "id": "5IhVuO9fo7tw",
        "outputId": "4b2400d1-3978-4bff-d669-b1789688b77e"
      },
      "execution_count": null,
      "outputs": [
        {
          "output_type": "stream",
          "name": "stdout",
          "text": [
            "Failed to fetch modules: 401\n"
          ]
        }
      ]
    },
    {
      "cell_type": "code",
      "source": [
        "!pip install requests prettytable\n"
      ],
      "metadata": {
        "colab": {
          "base_uri": "https://localhost:8080/"
        },
        "id": "1_PpDjBEp2qM",
        "outputId": "9798aa34-ae5f-4d42-bedb-5d7376ee03b6"
      },
      "execution_count": null,
      "outputs": [
        {
          "output_type": "stream",
          "name": "stdout",
          "text": [
            "Requirement already satisfied: requests in /usr/local/lib/python3.11/dist-packages (2.32.3)\n",
            "Requirement already satisfied: prettytable in /usr/local/lib/python3.11/dist-packages (3.12.0)\n",
            "Requirement already satisfied: charset-normalizer<4,>=2 in /usr/local/lib/python3.11/dist-packages (from requests) (3.4.1)\n",
            "Requirement already satisfied: idna<4,>=2.5 in /usr/local/lib/python3.11/dist-packages (from requests) (3.10)\n",
            "Requirement already satisfied: urllib3<3,>=1.21.1 in /usr/local/lib/python3.11/dist-packages (from requests) (2.3.0)\n",
            "Requirement already satisfied: certifi>=2017.4.17 in /usr/local/lib/python3.11/dist-packages (from requests) (2024.12.14)\n",
            "Requirement already satisfied: wcwidth in /usr/local/lib/python3.11/dist-packages (from prettytable) (0.2.13)\n"
          ]
        }
      ]
    },
    {
      "cell_type": "code",
      "source": [
        "import requests\n",
        "from prettytable import PrettyTable\n",
        "\n",
        "def fetch_zoho_modules():\n",
        "    # Define your Zoho CRM API credentials\n",
        "    access_token = 'YOUR_ACCESS_TOKEN'  # Replace with your valid access token\n",
        "\n",
        "    # Zoho CRM API endpoint to fetch modules\n",
        "    url = 'https://www.zohoapis.com/crm/v2/settings/modules'\n",
        "\n",
        "    # Headers with the authorization token\n",
        "    headers = {\n",
        "        'Authorization': f'Zoho-oauthtoken {access_token}'\n",
        "    }\n",
        "\n",
        "    # Send GET request to fetch the modules\n",
        "    response = requests.get(url, headers=headers)\n",
        "\n",
        "    # Check if the request was successful\n",
        "    if response.status_code == 200:\n",
        "        data = response.json()\n",
        "        modules = data.get('modules', [])\n",
        "\n",
        "        # Create a PrettyTable instance to format the output\n",
        "        table = PrettyTable()\n",
        "        table.field_names = [\"Module Name\", \"API Name\", \"Is Creatable\", \"Is Editable\", \"Is Viewable\"]\n",
        "\n",
        "        # Loop through the modules and add them to the table\n",
        "        for module in modules:\n",
        "            module_name = module.get('module_name')\n",
        "            api_name = module.get('api_name')\n",
        "            is_creatable = module.get('creatable')\n",
        "            is_editable = module.get('editable')\n",
        "            is_viewable = module.get('viewable')\n",
        "\n",
        "            # Add the module details to the table\n",
        "            table.add_row([module_name, api_name, is_creatable, is_editable, is_viewable])\n",
        "\n",
        "        # Print the table\n",
        "        print(table)\n",
        "\n",
        "    else:\n",
        "        print(f\"Failed to fetch modules. Status code: {response.status_code}\")\n",
        "        print(response.text)\n",
        "\n",
        "# Call the function to fetch and display the modules\n",
        "fetch_zoho_modules()\n"
      ],
      "metadata": {
        "colab": {
          "base_uri": "https://localhost:8080/"
        },
        "id": "258EGoCHpZ3e",
        "outputId": "3de39c99-1db0-42ce-9122-3f952c11bbbd"
      },
      "execution_count": null,
      "outputs": [
        {
          "output_type": "stream",
          "name": "stdout",
          "text": [
            "Failed to fetch modules. Status code: 401\n",
            "{\"code\":\"INVALID_TOKEN\",\"details\":{},\"message\":\"invalid oauth token\",\"status\":\"error\"}\n",
            "\n"
          ]
        }
      ]
    }
  ]
}